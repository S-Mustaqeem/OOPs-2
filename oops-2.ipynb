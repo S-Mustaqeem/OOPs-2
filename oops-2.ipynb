{
 "cells": [
  {
   "cell_type": "markdown",
   "id": "47d8ec08-bc97-464a-9bed-dbb6fe9db7c7",
   "metadata": {},
   "source": [
    "Q1. Explain Class and Object with respect to Object-Oriented Programming. Give a suitable example."
   ]
  },
  {
   "cell_type": "markdown",
   "id": "7a7448df-225d-4e6c-962b-8650d4886a4c",
   "metadata": {},
   "source": [
    "Class:\n",
    "A class is a blueprint or a template for creating objects. It defines the attributes (data members) and behaviors (methods/functions) that objects of that class will possess. Think of a class as a blueprint for creating multiple instances of the same type of object. It encapsulates the common characteristics and behaviors that all objects of that class should have.\n",
    "\n",
    "Object:\n",
    "An object is an instance of a class. When you create an object, you are creating a specific instance of that class, and each object will have its own unique set of attributes and can perform actions defined by the class's methods."
   ]
  },
  {
   "cell_type": "code",
   "execution_count": 3,
   "id": "c8b9ed1d-52fa-4e4a-b9f1-e0808e722974",
   "metadata": {},
   "outputs": [],
   "source": [
    "class student():\n",
    "    def __init__(self, name, mobile_number, address, std):\n",
    "        self.name= name\n",
    "        self.mobile_number=mobile_number\n",
    "        self.address= address\n",
    "        self.std= std\n",
    "        "
   ]
  },
  {
   "cell_type": "code",
   "execution_count": 5,
   "id": "1f63ee51-1fe8-4bf9-92d3-e27780765e54",
   "metadata": {},
   "outputs": [],
   "source": [
    "detail=student('mudassir', 8766756166, 'Aurangabad' , '9th')"
   ]
  },
  {
   "cell_type": "code",
   "execution_count": 8,
   "id": "29e833ba-6622-4705-a201-d40d14722286",
   "metadata": {},
   "outputs": [
    {
     "name": "stdout",
     "output_type": "stream",
     "text": [
      "mudassir 8766756166 Aurangabad 9th\n"
     ]
    }
   ],
   "source": [
    "print(detail.name,detail.mobile_number,detail.address,detail.std)"
   ]
  },
  {
   "cell_type": "code",
   "execution_count": 9,
   "id": "8cbfa910-0daa-4bd0-8d37-cd95d5a72315",
   "metadata": {},
   "outputs": [],
   "source": [
    "#in above example \n",
    "#detail is object and student is class"
   ]
  },
  {
   "cell_type": "markdown",
   "id": "d37d590c-f6e3-49cf-9cb8-98e277046132",
   "metadata": {},
   "source": [
    "Q2. Name the four pillars of OOPs."
   ]
  },
  {
   "cell_type": "markdown",
   "id": "7d8807e3-4bd4-42e0-adbb-8f4f2dcb3e84",
   "metadata": {},
   "source": [
    "the four pillars of OOPs are:\n",
    "\n",
    "1. Encapsulation: Bundling data and methods together, hiding internal details and promoting data protection.\n",
    "\n",
    "2. Abstraction: Simplifying complex systems by providing a high-level representation with essential features.\n",
    "\n",
    "3. Inheritance: Allowing a class to inherit properties from another class, promoting code reusability and hierarchy.\n",
    "\n",
    "4. Polymorphism: Allowing objects to take on multiple forms, achieved through method overloading and overriding, enhancing code flexibility and reusability."
   ]
  },
  {
   "cell_type": "markdown",
   "id": "10f59b3b-1805-4310-ab0f-d1261214384d",
   "metadata": {},
   "source": [
    "Q3. Explain why the __init__() function is used. Give a suitable example."
   ]
  },
  {
   "cell_type": "code",
   "execution_count": 1,
   "id": "fc26f7d3-986f-4c63-9885-87d50fcceb38",
   "metadata": {},
   "outputs": [],
   "source": [
    "#The __init__() method in Python is a special function used in classes to initialize objects.\n",
    "#It gets automatically called when a new instance of the class is created.\n",
    "#Its purpose is to set up the initial state of the object by assigning values to instance variables that hold unique data for each object."
   ]
  },
  {
   "cell_type": "code",
   "execution_count": 2,
   "id": "a84f2580-b38d-48e0-b982-0a36bf65ede1",
   "metadata": {},
   "outputs": [],
   "source": [
    "class Details():\n",
    "    def __init__(self, name, age, date_of_birth, address):\n",
    "        self.name=name\n",
    "        self.age= age\n",
    "        self.date_of_birth= date_of_birth\n",
    "        self.address= address"
   ]
  },
  {
   "cell_type": "code",
   "execution_count": 3,
   "id": "a517a1e8-fbc7-427d-9f20-6912a1bc4f94",
   "metadata": {},
   "outputs": [],
   "source": [
    "Amaan=Details('Amaan', 13, '11-11-2010', 'Aurangabad')"
   ]
  },
  {
   "cell_type": "code",
   "execution_count": 4,
   "id": "101a1317-f2b9-48b4-a818-743e8f93f582",
   "metadata": {},
   "outputs": [
    {
     "data": {
      "text/plain": [
       "13"
      ]
     },
     "execution_count": 4,
     "metadata": {},
     "output_type": "execute_result"
    }
   ],
   "source": [
    "Amaan.age"
   ]
  },
  {
   "cell_type": "code",
   "execution_count": 5,
   "id": "054d502b-3de8-42a3-9919-ae365f83a5ed",
   "metadata": {},
   "outputs": [
    {
     "data": {
      "text/plain": [
       "'Aurangabad'"
      ]
     },
     "execution_count": 5,
     "metadata": {},
     "output_type": "execute_result"
    }
   ],
   "source": [
    "Amaan.address"
   ]
  },
  {
   "cell_type": "code",
   "execution_count": 6,
   "id": "603ba1eb-b701-4833-8a53-41200aee32ce",
   "metadata": {},
   "outputs": [],
   "source": [
    "#In this example, the __init__() method sets the name and age attributes for each instance of the Detail class,\n",
    "#allowing us to create multiple people objects with different names and ages."
   ]
  },
  {
   "cell_type": "markdown",
   "id": "7f7435c3-a196-43d5-b615-e0cfdcbb235b",
   "metadata": {},
   "source": [
    "Q4. Why self is used in OOPs?"
   ]
  },
  {
   "cell_type": "markdown",
   "id": "679184b4-a50e-46c1-b18b-c2d0f2c46eb1",
   "metadata": {},
   "source": [
    "Ans:--- Inheritance is a fundamental concept in OOPs that allows one class to inherit properties and methods from another class. The class that inherits is called the \"subclass\" or \"derived class\" while the class being inherited from is called the \"superclass\" or \"base class\". Inheritance promotes code reuse, modularity and facilities the creation of the hiararchial relationships between classes There are basically 5 types of Inheritance ,they are: 1.SINGLE INHERITANCE 2.MULTIPLE INHERIANCE 3.MULTILEVEL INHERITANCE 4.HIERARCHICAL INHERITANCE 5.HYBRID INHERITANCE"
   ]
  },
  {
   "cell_type": "markdown",
   "id": "9e2732fd-8e96-4cb5-92d6-c1755ce7f0f1",
   "metadata": {},
   "source": [
    "Q5. What is inheritance? Give an example for each type of inheritance."
   ]
  },
  {
   "cell_type": "code",
   "execution_count": 24,
   "id": "209a0ce0-bc30-48d4-95e3-e95d84fb7ce4",
   "metadata": {},
   "outputs": [],
   "source": [
    "#in inheritance we can call the parent class through child class or say we can access parent class without going direct to parent class through child class.\n",
    "#modularity and facilities the creation of the hiararchial relationships between classes There are basically 5 types of Inheritance, they are:\n",
    "#1.SINGLE INHERITANCE\n",
    "#2.MULTIPLE INHERIANCE \n",
    "#3.MULTILEVEL INHERITANCE\n",
    "#in class we only teach 3 types another i learn from internet\n",
    "#4.HIERARCHICAL INHERITANCE\n",
    "#5.HYBRID INHERITANCE"
   ]
  },
  {
   "cell_type": "code",
   "execution_count": 17,
   "id": "3b74c5a2-63cd-41c6-8f42-ced5981309e3",
   "metadata": {},
   "outputs": [
    {
     "name": "stdout",
     "output_type": "stream",
     "text": [
      "class1\n"
     ]
    }
   ],
   "source": [
    "#1 single inheritance\n",
    "#simply one class\n",
    "class class1():\n",
    "    def test():\n",
    "        return \"class1\"\n",
    "obj = class1\n",
    "print (obj.test())"
   ]
  },
  {
   "cell_type": "code",
   "execution_count": 14,
   "id": "51a9932c-c230-4133-b8d8-44a5449e01a3",
   "metadata": {},
   "outputs": [
    {
     "name": "stdout",
     "output_type": "stream",
     "text": [
      "this is class1\n",
      "this is class2\n"
     ]
    }
   ],
   "source": [
    "#2 multi-level inheritance.\n",
    "#in multi-level inheritance we can say like if 3 class name as class1,class2 and class3 resp assume that class1 is a parent class.\n",
    "#class2 is a child class of class1\n",
    "#and finally class3 is a child class of class2#\n",
    "#then in conclusion we can say this class3 is a child class of class1\n",
    "#it is called multi-level inheritance\n",
    "class class1:\n",
    "    def test1():\n",
    "        return 'this is class1'\n",
    "class class2(class1):\n",
    "    def test2():\n",
    "        return 'this is class2'\n",
    "class class3(class2):\n",
    "    pass\n",
    "\n",
    "obj=class3\n",
    "print(obj.test1())\n",
    "print(obj.test2())"
   ]
  },
  {
   "cell_type": "code",
   "execution_count": 15,
   "id": "5a75eb2b-330f-42d6-84d6-1ab1843dfef8",
   "metadata": {},
   "outputs": [
    {
     "name": "stdout",
     "output_type": "stream",
     "text": [
      "this is class1\n",
      "this is class2\n"
     ]
    }
   ],
   "source": [
    "#3 multiple inheritance.\n",
    "#in this inheritance there are more than one parent class and one child class \n",
    "#for example class1 is first parent class and class2 is second parent class\n",
    "#we call parent class through child class like \n",
    "class class1:\n",
    "    def eg_class1():\n",
    "        return\"this is class1\"\n",
    "    \n",
    "class class2:\n",
    "    def eg_class2():\n",
    "        return\"this is class2\"\n",
    "    \n",
    "class class3(class1,class2):\n",
    "    pass\n",
    "obj=class3\n",
    "print(obj.eg_class1())\n",
    "print(obj.eg_class2())"
   ]
  },
  {
   "cell_type": "code",
   "execution_count": 23,
   "id": "b41725d9-75c3-41a5-9448-3d2743d4e916",
   "metadata": {},
   "outputs": [
    {
     "name": "stdout",
     "output_type": "stream",
     "text": [
      "this is parent class\n",
      "this is parent class\n"
     ]
    }
   ],
   "source": [
    "#4 Hierarchical Inheritance.\n",
    "#Multiple subclasses inherit from the same superclass.\n",
    "#or we can say multiple child class from same parent class\n",
    "class Parent():\n",
    "    def from_parent():\n",
    "        return 'this is parent class'\n",
    "    \n",
    "class child1(Parent):\n",
    "    pass\n",
    "class child2(Parent):\n",
    "    pass\n",
    "obj_of_child1=child1\n",
    "obj_of_child2=child2\n",
    "print(obj_of_child1.from_parent())\n",
    "print( obj_of_child2.from_parent())"
   ]
  },
  {
   "cell_type": "code",
   "execution_count": 25,
   "id": "d4d08a89-a4fe-4459-a263-906a86ba3c1a",
   "metadata": {},
   "outputs": [],
   "source": [
    "#5.HYBRID INHERITANCE.\n",
    "#in this class this is a mixture of multi-level inheritance, multiple inheritance, single inheritance and hierarchical inheritance"
   ]
  },
  {
   "cell_type": "code",
   "execution_count": null,
   "id": "126796c3-3d0b-4576-8c82-2884f9ab1795",
   "metadata": {},
   "outputs": [],
   "source": []
  }
 ],
 "metadata": {
  "kernelspec": {
   "display_name": "Python 3 (ipykernel)",
   "language": "python",
   "name": "python3"
  },
  "language_info": {
   "codemirror_mode": {
    "name": "ipython",
    "version": 3
   },
   "file_extension": ".py",
   "mimetype": "text/x-python",
   "name": "python",
   "nbconvert_exporter": "python",
   "pygments_lexer": "ipython3",
   "version": "3.10.8"
  }
 },
 "nbformat": 4,
 "nbformat_minor": 5
}
